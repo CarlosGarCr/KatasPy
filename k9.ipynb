{
 "cells": [
  {
   "cell_type": "markdown",
   "metadata": {},
   "source": [
    "# Función para leer 3 tanques de combustible y muestre el promedio"
   ]
  },
  {
   "cell_type": "code",
   "execution_count": 2,
   "metadata": {},
   "outputs": [
    {
     "name": "stdout",
     "output_type": "stream",
     "text": [
      "10.0\n"
     ]
    }
   ],
   "source": [
    "\n",
    "def report(tank1, tank2, tank3):\n",
    "    \n",
    "    prom = (tank1 + tank2 + tank3)/3\n",
    "    print(f\"\"\"\n",
    "        Fuel Average: {prom}\n",
    "        Tank 1 : {tank1}\n",
    "        Tank 2 : {tank2}\n",
    "        Tank 3 : {tank3}\n",
    "    \"\"\")\n",
    "    print(prom)\n",
    "\n"
   ]
  },
  {
   "cell_type": "markdown",
   "metadata": {},
   "source": [
    "# Llamamos a la función que genera el reporte print(funcion(tanque1, tanque2, tanque3))"
   ]
  },
  {
   "cell_type": "code",
   "execution_count": 5,
   "metadata": {},
   "outputs": [
    {
     "name": "stdout",
     "output_type": "stream",
     "text": [
      "\n",
      "        Fuel Average: 10.0\n",
      "        Tank 1 : 10\n",
      "        Tank 2 : 10\n",
      "        Tank 3 : 10\n",
      "    \n",
      "10.0\n"
     ]
    }
   ],
   "source": [
    "\n",
    "def report(tank1, tank2, tank3):\n",
    "    \n",
    "    prom = (tank1 + tank2 + tank3)/3\n",
    "    print(f\"\"\"\n",
    "        Fuel Average: {prom}\n",
    "        Tank 1 : {tank1}\n",
    "        Tank 2 : {tank2}\n",
    "        Tank 3 : {tank3}\n",
    "    \"\"\")\n",
    "    print(prom)\n",
    "\n",
    "report(10,10,10)"
   ]
  },
  {
   "cell_type": "markdown",
   "metadata": {},
   "source": [
    "# Función promedio \n"
   ]
  },
  {
   "cell_type": "code",
   "execution_count": 6,
   "metadata": {},
   "outputs": [],
   "source": [
    "def prom(*args):\n",
    "    total = sum(args)\n",
    "    total_args = len(args)\n",
    "    return total / total_args"
   ]
  },
  {
   "cell_type": "markdown",
   "metadata": {},
   "source": [
    "# Actualiza la función"
   ]
  },
  {
   "cell_type": "code",
   "execution_count": null,
   "metadata": {},
   "outputs": [],
   "source": [
    "def prom(*args):\n",
    "    total = sum(args)\n",
    "    total_args = len(args)\n",
    "    return total / total_args\n",
    "    \n",
    "def report(tank1, tank2, tank3):\n",
    "    print(f\"\"\"\n",
    "        Fuel Average: {prom(tank1, tank2, tank3)}\n",
    "        Tank 1 : {tank1}\n",
    "        Tank 2 : {tank2}\n",
    "        Tank 3 : {tank3}\n",
    "    \"\"\")\n",
    "\n",
    "report(321,234,100)"
   ]
  },
  {
   "cell_type": "markdown",
   "metadata": {},
   "source": [
    "# Función con un informe preciso de la misión. Considera hora de prelanzamiento, tiempo de vuelo, destino, tanque externo y tanque interno"
   ]
  },
  {
   "cell_type": "code",
   "execution_count": null,
   "metadata": {},
   "outputs": [],
   "source": [
    "def report(time_l, time_fly, destination, inside_tank, external_tank):\n",
    "    print(f\"\"\"\n",
    "    Ship we may fail\n",
    "    Pre-Lauch time: {time_l}\n",
    "    Time in da air: {time_fly}\n",
    "    We crashing at: {destination}\n",
    "    Inside Fuel: {inside_tank}\n",
    "    Outside Fuel: {external_tank}\n",
    "    \"\"\")"
   ]
  },
  {
   "cell_type": "markdown",
   "metadata": {},
   "source": [
    "# Escribe tu nueva función de reporte considerando lo anterior\n",
    "# Escribe tu nueva función"
   ]
  },
  {
   "cell_type": "code",
   "execution_count": 22,
   "metadata": {},
   "outputs": [
    {
     "name": "stdout",
     "output_type": "stream",
     "text": [
      "\n",
      "    Ship we may fail\n",
      "    Time on da space: 111\n",
      "    We crashing at: Mars\n",
      "    Total Fuel: 71443 \n",
      "    Inside has this amount of fuel: 39222 \n",
      "Extenal has this amount of fuel: 32221 \n",
      "\n"
     ]
    }
   ],
   "source": [
    "def report( destination, *time, **tanks):\n",
    "    tank_string=''\n",
    "    for tank, fuel in tanks.items():\n",
    "        tank_string += (f\"{tank} has this amount of fuel: {fuel} \\n\")\n",
    "    print(f\"\"\"\n",
    "    Ship we may fail\n",
    "    Time on da space: {sum(time)}\n",
    "    We crashing at: {destination}\n",
    "    Total Fuel: {sum(tanks.values())} \n",
    "    \"\"\" + \n",
    "    tank_string)\n",
    "\n",
    "report(\"Mars\", 8,3,100, Inside = 39222, Extenal = 32221)"
   ]
  }
 ],
 "metadata": {
  "interpreter": {
   "hash": "92fb4c2409ed31477d92edbb6efc8924d502a27dd5c8e25f2c5eb7d2566c1048"
  },
  "kernelspec": {
   "display_name": "Python 3.9.7 32-bit",
   "language": "python",
   "name": "python3"
  },
  "language_info": {
   "codemirror_mode": {
    "name": "ipython",
    "version": 3
   },
   "file_extension": ".py",
   "mimetype": "text/x-python",
   "name": "python",
   "nbconvert_exporter": "python",
   "pygments_lexer": "ipython3",
   "version": "3.9.7"
  },
  "orig_nbformat": 4
 },
 "nbformat": 4,
 "nbformat_minor": 2
}
