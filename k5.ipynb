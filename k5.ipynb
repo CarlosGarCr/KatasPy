{
 "cells": [
  {
   "cell_type": "markdown",
   "metadata": {},
   "source": [
    "# Crear variables para almacenar las dos distancias\n",
    "# ¡Asegúrate de quitar las comas!\n",
    "# Calcular la distancia entre planetas"
   ]
  },
  {
   "cell_type": "code",
   "execution_count": 2,
   "metadata": {},
   "outputs": [
    {
     "name": "stdout",
     "output_type": "stream",
     "text": [
      "628949330 Km\n",
      "390577534 Miles\n"
     ]
    }
   ],
   "source": [
    "d_tierra = 149597870\n",
    "d_jupiter = 778547200\n",
    "distancia = abs((d_tierra - d_jupiter))\n",
    "distancia_2 = abs((d_jupiter - d_tierra) *0.621)\n",
    "print(str(round(distancia)) + \" Km\")\n",
    "print(str(round(distancia_2)) +\" Miles\" )"
   ]
  },
  {
   "cell_type": "markdown",
   "metadata": {},
   "source": [
    "# Almacenar las entradas del usuario\n",
    "# Convierte las cadenas de ambos planetas a números enteros\n",
    "# Realizar el cálculo y determinar el valor absoluto\n",
    "# Convertir de KM a Millas"
   ]
  },
  {
   "cell_type": "code",
   "execution_count": 3,
   "metadata": {},
   "outputs": [],
   "source": [
    "num_uno = input(\"Ingrese la distancia del primer planeta \\n\")\n",
    "num_dos = input(\"Ingrese la distancia del segundo planeta \\n\")\n",
    "\n",
    "distancia = abs(int(num_uno) - int(num_dos))\n",
    "\n",
    "print(str(distancia) + \" Km\")\n",
    "print (str(distancia * 0.621) + \" Millas\")"
   ]
  }
 ],
 "metadata": {
  "interpreter": {
   "hash": "92fb4c2409ed31477d92edbb6efc8924d502a27dd5c8e25f2c5eb7d2566c1048"
  },
  "kernelspec": {
   "display_name": "Python 3.9.7 32-bit",
   "language": "python",
   "name": "python3"
  },
  "language_info": {
   "codemirror_mode": {
    "name": "ipython",
    "version": 3
   },
   "file_extension": ".py",
   "mimetype": "text/x-python",
   "name": "python",
   "nbconvert_exporter": "python",
   "pygments_lexer": "ipython3",
   "version": "3.9.7"
  },
  "orig_nbformat": 4
 },
 "nbformat": 4,
 "nbformat_minor": 2
}
