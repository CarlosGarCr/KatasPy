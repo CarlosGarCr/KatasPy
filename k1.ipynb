{
 "cells": [
  {
   "cell_type": "markdown",
   "metadata": {},
   "source": [
    "Fecha del dia de hoy"
   ]
  },
  {
   "cell_type": "code",
   "execution_count": 3,
   "metadata": {},
   "outputs": [
    {
     "name": "stdout",
     "output_type": "stream",
     "text": [
      "La fecha de hoy es: 2022-02-05\n"
     ]
    }
   ],
   "source": [
    "from datetime import date\n",
    "\n",
    "fecha = date.today()\n",
    "\n",
    "print(\"La fecha de hoy es: \" + str(fecha))"
   ]
  },
  {
   "cell_type": "markdown",
   "metadata": {},
   "source": [
    "Calculador de Parsecs\n"
   ]
  },
  {
   "cell_type": "code",
   "execution_count": 6,
   "metadata": {},
   "outputs": [
    {
     "name": "stdout",
     "output_type": "stream",
     "text": [
      "2312 parsec, son :7540.72672 años luz\n"
     ]
    }
   ],
   "source": [
    "parsecs = 3.26156\n",
    "domath = input(\"Cuantos parsecs quiere transforar\")\n",
    "anosluz = (parsecs * float(domath))\n",
    "\n",
    "\n",
    "print(str(domath) + \" parsec, son :\" + str(anosluz) + \" años luz\" )"
   ]
  }
 ],
 "metadata": {
  "interpreter": {
   "hash": "70ba4b2079888cfc3d5aa17723cbc7e68ddbd2651a845ac09c2ca3f61318d6dd"
  },
  "kernelspec": {
   "display_name": "Python 3.9.7 64-bit",
   "language": "python",
   "name": "python3"
  },
  "language_info": {
   "codemirror_mode": {
    "name": "ipython",
    "version": 3
   },
   "file_extension": ".py",
   "mimetype": "text/x-python",
   "name": "python",
   "nbconvert_exporter": "python",
   "pygments_lexer": "ipython3",
   "version": "3.9.7"
  },
  "orig_nbformat": 4
 },
 "nbformat": 4,
 "nbformat_minor": 2
}
