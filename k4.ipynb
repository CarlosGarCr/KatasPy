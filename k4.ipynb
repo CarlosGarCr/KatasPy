{
 "cells": [
  {
   "cell_type": "markdown",
   "metadata": {},
   "source": [
    "# Añade el código necesario\n",
    "# Define las palabras pista: average, temperature y distance suenan bien\n",
    "# Ciclo for para recorrer la cadena\n",
    "# Ciclo para cambiar C a Celsius"
   ]
  },
  {
   "cell_type": "code",
   "execution_count": 1,
   "metadata": {},
   "outputs": [
    {
     "name": "stdout",
     "output_type": "stream",
     "text": [
      " \n",
      "On average, the Moon moves 4cm away from the Earth every year\n",
      " The highest daylight temperature of the Moon is 127 Celsius\n",
      " The highest daylight temperature of the Moon is 127 Celsius\n"
     ]
    }
   ],
   "source": [
    "text = \"\"\"Interesting facts about the Moon. The Moon is Earth's only satellite. \n",
    "There are several interesting facts about the Moon and how it affects life here on Earth. \n",
    "On average, the Moon moves 4cm away from the Earth every year. This yearly drift is not significant \n",
    "enough to cause immediate effects on Earth. The highest daylight temperature of the Moon is 127 C.\"\"\"\n",
    "text_divide = text.split('.')\n",
    "for textf in text_divide:\n",
    "    if 'C' in textf:\n",
    "        textf = textf.replace('C','Celsius',)\n",
    "        print(textf)\n",
    "    if 'average' in textf.lower():\n",
    "        print(textf)\n",
    "    if 'temperature' in textf.lower():\n",
    "        print(textf)\n",
    "    if 'distance' in textf.lower():\n",
    "        print(textf)"
   ]
  },
  {
   "cell_type": "markdown",
   "metadata": {},
   "source": [
    "# Creamos el título\n",
    "# Creamos la plantilla\n",
    "# Unión de ambas cadenas\n",
    "# Comprueba la plantilla\n",
    "# print(nombre_plantilla)\n",
    "# Nueva plantilla"
   ]
  },
  {
   "cell_type": "code",
   "execution_count": 2,
   "metadata": {},
   "outputs": [
    {
     "name": "stdout",
     "output_type": "stream",
     "text": [
      " ****** How Ganímedes affects on Mars Gravity ******\n",
      "        __________________________________________\n",
      "        \n",
      "            Planet name:  Mars\n",
      "            Gravity: 1.4300000000000002 m/s2\n",
      "            \n"
     ]
    }
   ],
   "source": [
    "name = \"\"\"Ganímedes\"\"\"\n",
    "gravity = 0.00143 # in kms\n",
    "planet = \"Mars\"\n",
    "\n",
    "gravity_mt = gravity * 1000\n",
    "\n",
    "title = (f\"\"\" ****** How {name} affects on {planet} Gravity ******\n",
    "        __________________________________________\n",
    "        \"\"\")\n",
    "plantilla = (f\"\"\"\n",
    "            Planet name:  {planet}\n",
    "            Gravity: {gravity_mt} m/s2\n",
    "            \"\"\")\n",
    "info = title + plantilla\n",
    "print(info)"
   ]
  }
 ],
 "metadata": {
  "interpreter": {
   "hash": "92fb4c2409ed31477d92edbb6efc8924d502a27dd5c8e25f2c5eb7d2566c1048"
  },
  "kernelspec": {
   "display_name": "Python 3.9.7 32-bit",
   "language": "python",
   "name": "python3"
  },
  "language_info": {
   "codemirror_mode": {
    "name": "ipython",
    "version": 3
   },
   "file_extension": ".py",
   "mimetype": "text/x-python",
   "name": "python",
   "nbconvert_exporter": "python",
   "pygments_lexer": "ipython3",
   "version": "3.9.7"
  },
  "orig_nbformat": 4
 },
 "nbformat": 4,
 "nbformat_minor": 2
}
